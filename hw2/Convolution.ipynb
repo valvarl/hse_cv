{
 "cells": [
  {
   "cell_type": "markdown",
   "id": "c7c56350-c942-4c20-9162-1a7ecc5d39d8",
   "metadata": {},
   "source": [
    "## Задание 1.\n",
    "Реализовать функцию свертки (специфицировать размер и количество фильтров, входной тензор, stride,...)\n",
    "(по формуле (*)). Придумать тест для проверки.\n",
    "\n",
    "$O[m][x][y] = \\Sigma_{i=0}^{R-1}\\Sigma_{j=0}^{S-1}\\Sigma_{k=0}^{C-1}I[k][x+i][y+j] \\times W[m][k][i][j]$"
   ]
  },
  {
   "cell_type": "code",
   "execution_count": 1,
   "id": "611d3eff-8e94-4a0d-b288-a0e77f464179",
   "metadata": {
    "tags": []
   },
   "outputs": [
    {
     "name": "stdout",
     "output_type": "stream",
     "text": [
      "Размер выходного тензора: (2, 2, 2)\n"
     ]
    }
   ],
   "source": [
    "import numpy as np\n",
    "\n",
    "def convolution(input_tensor, weights, stride=1):\n",
    "    C, H_in, W_in = input_tensor.shape\n",
    "    M, C, R, S = weights.shape\n",
    "\n",
    "    H_out = (H_in - R) // stride + 1\n",
    "    W_out = (W_in - S) // stride + 1\n",
    "    \n",
    "    output_tensor = np.zeros((M, H_out, W_out))\n",
    "    \n",
    "    for m in range(M):\n",
    "        for x in range(W_out):\n",
    "            for y in range(H_out):\n",
    "                for i in range(R):\n",
    "                    for j in range(S):\n",
    "                        for k in range(C):\n",
    "                            output_tensor[m][x][y] += input_tensor[k, stride*x+i, stride*y+j] * weights[m, k, i, j]\n",
    "                                \n",
    "    return output_tensor\n",
    "\n",
    "stride = 2\n",
    "input_tensor = np.random.rand(3, 5, 5)  # Тензор размером 3x5x5\n",
    "weights = np.random.rand(2, 3, 3, 3)    # Веса размером 2x3x3x3\n",
    "\n",
    "output_tensor = convolution(input_tensor, weights, stride)\n",
    "\n",
    "print(\"Размер выходного тензора:\", output_tensor.shape)"
   ]
  },
  {
   "cell_type": "code",
   "execution_count": 2,
   "id": "facc1aa3-ced1-49bf-8757-d9badca3973f",
   "metadata": {
    "tags": []
   },
   "outputs": [
    {
     "name": "stdout",
     "output_type": "stream",
     "text": [
      "Тест пройден успешно!\n"
     ]
    }
   ],
   "source": [
    "from scipy.signal import convolve\n",
    "\n",
    "# Сравниваем результаты с функцией convolve из scipy\n",
    "expected_output = np.zeros_like(output_tensor)\n",
    "for m in range(output_tensor.shape[0]):\n",
    "    for k in range(input_tensor.shape[0]):\n",
    "        expected_output[m] += convolve(input_tensor[k], np.fliplr(np.flipud(weights[m, k])), mode='valid')[::stride, ::stride]\n",
    "\n",
    "# Проверяем, совпадают ли результаты\n",
    "assert np.allclose(output_tensor, expected_output)\n",
    "print(\"Тест пройден успешно!\")"
   ]
  },
  {
   "cell_type": "markdown",
   "id": "016f5b9a-40cd-491f-b33f-9c020bf019c9",
   "metadata": {},
   "source": [
    "## Задание 2.\n",
    "\n",
    "Написать функцию реализующую сверточный слой через im2col. Сделать проверку результата с помощью прямой реализации свертки.\n",
    "\n",
    "Источник: https://hackmd.io/@machine-learning/blog-post-cnnumpy-fast"
   ]
  },
  {
   "cell_type": "code",
   "execution_count": 3,
   "id": "37d84eb9-eda3-4f36-8c21-dffcf460aa8e",
   "metadata": {
    "tags": []
   },
   "outputs": [],
   "source": [
    "def get_indices(X_shape, HF, WF, stride, pad):\n",
    "    \"\"\"\n",
    "        Returns index matrices in order to transform our input image into a matrix.\n",
    "\n",
    "        Parameters:\n",
    "        -X_shape: Input image shape.\n",
    "        -HF: filter height.\n",
    "        -WF: filter width.\n",
    "        -stride: stride value.\n",
    "        -pad: padding value.\n",
    "\n",
    "        Returns:\n",
    "        -i: matrix of index i.\n",
    "        -j: matrix of index j.\n",
    "        -d: matrix of index d. \n",
    "            (Use to mark delimitation for each channel\n",
    "            during multi-dimensional arrays indexing).\n",
    "    \"\"\"\n",
    "    # get input size\n",
    "    m, n_C, n_H, n_W = X_shape\n",
    "\n",
    "    # get output size\n",
    "    out_h = int((n_H + 2 * pad - HF) / stride) + 1\n",
    "    out_w = int((n_W + 2 * pad - WF) / stride) + 1\n",
    "  \n",
    "    # ----Compute matrix of index i----\n",
    "\n",
    "    # Level 1 vector.\n",
    "    level1 = np.repeat(np.arange(HF), WF)\n",
    "    # Duplicate for the other channels.\n",
    "    level1 = np.tile(level1, n_C)\n",
    "    # Create a vector with an increase by 1 at each level.\n",
    "    everyLevels = stride * np.repeat(np.arange(out_h), out_w)\n",
    "    # Create matrix of index i at every levels for each channel.\n",
    "    i = level1.reshape(-1, 1) + everyLevels.reshape(1, -1)\n",
    "\n",
    "    # ----Compute matrix of index j----\n",
    "    \n",
    "    # Slide 1 vector.\n",
    "    slide1 = np.tile(np.arange(WF), HF)\n",
    "    # Duplicate for the other channels.\n",
    "    slide1 = np.tile(slide1, n_C)\n",
    "    # Create a vector with an increase by 1 at each slide.\n",
    "    everySlides = stride * np.tile(np.arange(out_w), out_h)\n",
    "    # Create matrix of index j at every slides for each channel.\n",
    "    j = slide1.reshape(-1, 1) + everySlides.reshape(1, -1)\n",
    "\n",
    "    # ----Compute matrix of index d----\n",
    "\n",
    "    # This is to mark delimitation for each channel\n",
    "    # during multi-dimensional arrays indexing.\n",
    "    d = np.repeat(np.arange(n_C), HF * WF).reshape(-1, 1)\n",
    "\n",
    "    return i, j, d\n",
    "\n",
    "def im2col(X, HF, WF, stride, pad):\n",
    "    \"\"\"\n",
    "        Transforms our input image into a matrix.\n",
    "\n",
    "        Parameters:\n",
    "        - X: input image.\n",
    "        - HF: filter height.\n",
    "        - WF: filter width.\n",
    "        - stride: stride value.\n",
    "        - pad: padding value.\n",
    "\n",
    "        Returns:\n",
    "        -cols: output matrix.\n",
    "    \"\"\"\n",
    "    # Padding\n",
    "    X_padded = np.pad(X, ((0,0), (0,0), (pad, pad), (pad, pad)), mode='constant')\n",
    "    i, j, d = get_indices(X.shape, HF, WF, stride, pad)\n",
    "    # Multi-dimensional arrays indexing.\n",
    "    cols = X_padded[:, d, i, j]\n",
    "    cols = np.concatenate(cols, axis=-1)\n",
    "    return cols\n",
    "\n",
    "def im2col_convolution(input_tensor, weights, stride=1, padding=0):\n",
    "    C, H_in, W_in = input_tensor.shape\n",
    "    M, C, R, S = weights.shape\n",
    "    \n",
    "    n_H = (H_in + 2 * padding - R) // stride + 1\n",
    "    n_W = (W_in + 2 * padding - S) // stride + 1\n",
    "    \n",
    "    return (im2col(weights, R, S, stride, padding).T @ im2col(input_tensor[None,], R, S, stride, padding)).reshape(M, n_H, n_W)"
   ]
  },
  {
   "cell_type": "code",
   "execution_count": 4,
   "id": "3b356c76-c2dd-4082-b9c4-d34231a3360b",
   "metadata": {
    "tags": []
   },
   "outputs": [
    {
     "name": "stdout",
     "output_type": "stream",
     "text": [
      "Тест пройден успешно!\n"
     ]
    }
   ],
   "source": [
    "output_im2col = im2col_convolution(input_tensor, weights, stride)\n",
    "assert np.allclose(output_tensor, output_im2col)\n",
    "print(\"Тест пройден успешно!\")"
   ]
  }
 ],
 "metadata": {
  "kernelspec": {
   "display_name": "Python 3 (ipykernel)",
   "language": "python",
   "name": "python3"
  },
  "language_info": {
   "codemirror_mode": {
    "name": "ipython",
    "version": 3
   },
   "file_extension": ".py",
   "mimetype": "text/x-python",
   "name": "python",
   "nbconvert_exporter": "python",
   "pygments_lexer": "ipython3",
   "version": "3.11.5"
  }
 },
 "nbformat": 4,
 "nbformat_minor": 5
}
